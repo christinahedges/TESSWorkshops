{
 "cells": [
  {
   "cell_type": "markdown",
   "metadata": {},
   "source": [
    "# Exercise: Building a light curve from two different sectors.\n",
    "\n",
    "## Goal\n",
    "\n",
    "Some targets in TESS will have data in multiple sectors. These targets can be combined using lightkurve into one data set, and then analyzed together. In this exercise, you'll combine the data from sectors 1 and 4 for *Pi Mensae c* and improve the signal to noise of the transit detection. \n",
    "\n",
    "### Merging two light curves from two sectors.\n",
    "\n",
    "In our previous exercise we created different apertures using light curve. Use the same methods to create download TPFs plot two aperture masks."
   ]
  },
  {
   "cell_type": "code",
   "execution_count": null,
   "metadata": {},
   "outputs": [],
   "source": [
    "import lightkurve as lk\n",
    "# Download all the tpfs for Pi Mensae\n",
    "tpfs =  . . . "
   ]
  },
  {
   "cell_type": "code",
   "execution_count": null,
   "metadata": {},
   "outputs": [],
   "source": [
    "# Using matplotlib.pyplot's subplots method we can create a plot that has three panels \n",
    "import matplotlib.pyplot as plt\n",
    "fig, axs = plt.subplots(1, 2, figsize=(10, 4))\n",
    "\n",
    "for idx, tpf in enumerate(tpfs):\n",
    "    aper =  . . . \n",
    "    tpf.plot( . . . , ax=axs[idx])"
   ]
  },
  {
   "cell_type": "markdown",
   "metadata": {},
   "source": [
    "**Note:** The two tpfs have slightly different PSF shapes, due to being on different parts of the detector, at different seasons, with different scattered light. If you plot the TPFs you will see that you cannot simply reuse the same aperture for different sectors."
   ]
  },
  {
   "cell_type": "markdown",
   "metadata": {},
   "source": [
    "Create light curves from each TPF, using the `to_lightcurve` method, and plot them."
   ]
  },
  {
   "cell_type": "code",
   "execution_count": null,
   "metadata": {},
   "outputs": [],
   "source": [
    "aper1 = tpfs[0] . . . \n",
    "lc1 = tpfs[0].to_lightcurve( . . . )\n",
    "\n",
    "aper2 = tpfs[1]. . . . \n",
    "lc2 = tpfs[1].to_lightcurve( . . . )"
   ]
  },
  {
   "cell_type": "code",
   "execution_count": null,
   "metadata": {},
   "outputs": [],
   "source": [
    "ax = lc1.errorbar()\n",
    "lc2.errorbar(ax=ax)"
   ]
  },
  {
   "cell_type": "markdown",
   "metadata": {},
   "source": [
    "You should see that in sector 4, the target moves significantly in the middle of the exposure. This causes a large flux loss. (You can also see this using the `tpf.interact()` tool). This large flux loss can be dealt with in a few ways, but today we are going to remove this portion of the light curve."
   ]
  },
  {
   "cell_type": "markdown",
   "metadata": {},
   "source": [
    "### Trimming out bad data\n",
    "\n",
    "Use the `tpf.estimate_centroids()` method to plot the motion of the target during sector 4. Plot the motion in $x$ against the motion in $y$. Choose a cut off value in $x$ or $y$ that preserves the data mostly around $x = 0,\\; y = 0$"
   ]
  },
  {
   "cell_type": "code",
   "execution_count": null,
   "metadata": {},
   "outputs": [],
   "source": [
    "import numpy as np\n",
    "# Find the row and column position using the tpf.estimate_centroids() method\n",
    "r, c =  . . . \n",
    "\n",
    "# Remove the median value\n",
    "r -= np.nanmedian(r)\n",
    "c -= np.nanmedian(c)\n",
    "\n",
    "# Choose a cut off value\n",
    "cutoff = . . . \n",
    "\n",
    "plt.scatter(r, c, s=0.01, c='k')\n",
    "plt.axhline(cut_off, c='k', ls='--')\n",
    "plt.xlabel('$\\delta$ Row')\n",
    "plt.ylabel('$\\delta$ Column')"
   ]
  },
  {
   "cell_type": "markdown",
   "metadata": {},
   "source": [
    "With your new cut off value, mask the tpf so that only those cadences where the motion is small are preserved. Plot the light curve and compare to the unmasked tpf, and confirm that the bad data has been removed."
   ]
  },
  {
   "cell_type": "code",
   "execution_count": null,
   "metadata": {},
   "outputs": [],
   "source": [
    "mask =  . . . \n",
    "ax =  . . . "
   ]
  },
  {
   "cell_type": "markdown",
   "metadata": {},
   "source": [
    "Now that we have a masked tpf, regenerate your aperture mask for this target. By removing bad cadences, we should improve out aperture estimate."
   ]
  },
  {
   "cell_type": "code",
   "execution_count": null,
   "metadata": {},
   "outputs": [],
   "source": [
    "# Using matplotlib.pyplot's subplots method we can create a plot that has two panels \n",
    "fig, axs = plt.subplots(1, 2, figsize=(10, 4))\n",
    "\n",
    "aper1 = . . . \n",
    " . . . \n",
    "    \n",
    "aper2 =  . . . \n",
    " . . . "
   ]
  },
  {
   "cell_type": "markdown",
   "metadata": {},
   "source": [
    "Use the `tpf.to_lightcurve()` method to create two light curves from each of these apertures."
   ]
  },
  {
   "cell_type": "code",
   "execution_count": null,
   "metadata": {},
   "outputs": [],
   "source": [
    "lc1 =  . . . \n",
    "lc2 =  . . . "
   ]
  },
  {
   "cell_type": "markdown",
   "metadata": {},
   "source": [
    "Use the `lc.flatten()` method, `lc.remove_outliers()` method and masking to remove the long term trends, outlier and any sections of the light curve with poor data quality. Plot the light curves to visually inspect them."
   ]
  },
  {
   "cell_type": "code",
   "execution_count": null,
   "metadata": {},
   "outputs": [],
   "source": [
    "corr1 =  . . . \n",
    "corr1.errorbar(label='Corrected Sector 1')\n",
    "\n",
    "corr2 =  . . . \n",
    "corr2.errorbar(label='Corrected Sector 4')"
   ]
  },
  {
   "cell_type": "markdown",
   "metadata": {},
   "source": [
    "Use the `lc.append()` method to create a new `LightCurve` object from the two separate sectors. The syntax here is\n",
    "\n",
    "```python\n",
    "new_lc = lc1.append(lc2)\n",
    "```\n",
    "\n",
    "**Note:** Be careful to use the `normalize()` method on each light curve, in order to set the median flux of each light curve to 1. Otherwise, you will end up with two sectors with a slight offset in flux."
   ]
  },
  {
   "cell_type": "code",
   "execution_count": null,
   "metadata": {},
   "outputs": [],
   "source": [
    "lc =  . . . "
   ]
  },
  {
   "cell_type": "code",
   "execution_count": null,
   "metadata": {},
   "outputs": [],
   "source": [
    "lc.errorbar()"
   ]
  },
  {
   "cell_type": "markdown",
   "metadata": {},
   "source": [
    "Use the `fold()` method and `bin()` method to show the folded transit of *Pi Mensae c* for sector 1, sector 4 and combined.\n",
    "\n",
    "**Hint: ** The period and transit midpoint of *Pi Mensae c* is:\n",
    "* period = 6.27\n",
    "* t0 = 1325.504 "
   ]
  },
  {
   "cell_type": "code",
   "execution_count": null,
   "metadata": {},
   "outputs": [],
   "source": [
    "period = 6.27\n",
    "t0 = 1325.504\n",
    "\n",
    " . . . "
   ]
  },
  {
   "cell_type": "markdown",
   "metadata": {},
   "source": [
    "It looks like there is a slight offset between the transit times of Sector 1 and Sector 4. This could indicate that our transit ephemeris is not precise enough. If you increase the precision of the `period` and `t0` estimate, either by looking online or by using the `BLSPeriodogram` class in light curve, these transits will overlap."
   ]
  }
 ],
 "metadata": {
  "kernelspec": {
   "display_name": "Python 3",
   "language": "python",
   "name": "python3"
  },
  "language_info": {
   "codemirror_mode": {
    "name": "ipython",
    "version": 3
   },
   "file_extension": ".py",
   "mimetype": "text/x-python",
   "name": "python",
   "nbconvert_exporter": "python",
   "pygments_lexer": "ipython3",
   "version": "3.6.5"
  }
 },
 "nbformat": 4,
 "nbformat_minor": 2
}
