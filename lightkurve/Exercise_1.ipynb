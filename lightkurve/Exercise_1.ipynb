{
 "cells": [
  {
   "cell_type": "markdown",
   "metadata": {},
   "source": [
    "# Challenge 1: Inspecting Nearby Targets to Reveal Instrumental Noise\n",
    "\n",
    "## Goal\n",
    "\n",
    "The Sector 1 light curve of the first confirmed TESS planet system, Pi Mensae, contains a combination of true and systematic signals. This exercise will show you how to use `lightkurve` to validate which signals are real, and which are spurious. "
   ]
  },
  {
   "cell_type": "markdown",
   "metadata": {},
   "source": [
    "### Solutions\n",
    "\n",
    "This worksheet lays out the problems, and contains some skeleton code to get you started. You can find the worked solution in the `exercise_x_solution.ipynb` file."
   ]
  },
  {
   "cell_type": "code",
   "execution_count": null,
   "metadata": {},
   "outputs": [],
   "source": []
  }
 ],
 "metadata": {
  "kernelspec": {
   "display_name": "Python 3",
   "language": "python",
   "name": "python3"
  },
  "language_info": {
   "codemirror_mode": {
    "name": "ipython",
    "version": 3
   },
   "file_extension": ".py",
   "mimetype": "text/x-python",
   "name": "python",
   "nbconvert_exporter": "python",
   "pygments_lexer": "ipython3",
   "version": "3.6.5"
  }
 },
 "nbformat": 4,
 "nbformat_minor": 2
}
