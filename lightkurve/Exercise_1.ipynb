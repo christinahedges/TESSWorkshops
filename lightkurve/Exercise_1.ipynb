{
 "cells": [
  {
   "cell_type": "markdown",
   "metadata": {},
   "source": [
    "# Exercise: Extracting Light Curves using Different Masks\n",
    "\n",
    "## Goal\n",
    "\n",
    "When working with NASA Kepler, K2 and TESS data, the assumptions we make when we build the aperture can drastically effect our light curve. In this exercise we will investigate how changing the aperture can impact the signal to noise of a transit detection. We will use the *Pi Mensae* light curve from TESS sector 1."
   ]
  },
  {
   "cell_type": "markdown",
   "metadata": {},
   "source": [
    "### Solutions\n",
    "\n",
    "This worksheet lays out the problems, and contains some skeleton code to get you started. You can find the worked solution in the `exercise_x_solution.ipynb` file."
   ]
  },
  {
   "cell_type": "markdown",
   "metadata": {},
   "source": [
    "### Building different apertures with lightkurve\n",
    "\n",
    "When we have a target of interest, we can build a set of apertures with different sizes and test the CDPP in each. First, use lightkurve to download the *Pi Mensae* target pixel file from sector 1."
   ]
  },
  {
   "cell_type": "code",
   "execution_count": null,
   "metadata": {},
   "outputs": [],
   "source": [
    "import lightkurve as lk\n",
    "tpf =  . . . "
   ]
  },
  {
   "cell_type": "markdown",
   "metadata": {},
   "source": [
    "Next we will build three different aperture masks of different sizes. Use lightkurve to create three **threshold masks** with different sizes, and plot them."
   ]
  },
  {
   "cell_type": "markdown",
   "metadata": {},
   "source": [
    "**Hint: ** The `tpf.create_threshold_mask(threshold=...)` method allows you to create a pixel aperture mask containing all the pixels which are `threshold * sigma` brighter than the median background."
   ]
  },
  {
   "cell_type": "code",
   "execution_count": null,
   "metadata": {},
   "outputs": [],
   "source": [
    "apers =  . . . \n",
    "# Look over some threshold values\n",
    "for idx, threshold in enumerate( . . . ):\n",
    "    # Append them to a list\n",
    "     . . . "
   ]
  },
  {
   "cell_type": "code",
   "execution_count": null,
   "metadata": {},
   "outputs": [],
   "source": [
    "# Using matplotlib.pyplot's subplots method we can create a plot that has three panels \n",
    "import matplotlib.pyplot as plt\n",
    "fig, axs = plt.subplots(1, 3, figsize=(15, 4))\n",
    "\n",
    "# Loop through the aperture masks\n",
    "for idx, aper in enumerate(apers):\n",
    "    # Use lightkurve to plot each tpf with each mask.\n",
    "     . . . "
   ]
  },
  {
   "cell_type": "markdown",
   "metadata": {},
   "source": [
    "### Building different light curves, using new apertures\n",
    "\n",
    "Now that we have three different apertures, we can use them to build light curves. Use the `tpf.to_lightcurve()` method to create three new light curves, and plot them on the same panel to compare them. "
   ]
  },
  {
   "cell_type": "code",
   "execution_count": null,
   "metadata": {},
   "outputs": [],
   "source": [
    "# Another three panel plot\n",
    "fig, axs = plt.subplots(1, 3, figsize=(15, 4))\n",
    "\n",
    "# Loop over each aperture\n",
    "for idx, aper in enumerate(apers):\n",
    "    # Build a light curve using the tpf.to_lightcurve() method\n",
    "     . . . "
   ]
  },
  {
   "cell_type": "markdown",
   "metadata": {},
   "source": [
    "Once you have built light curves, try flattening and folding each light curve on to show the folded transit of *Pi \n",
    "Mensae c*\n",
    "\n",
    "**Hint: ** The period and transit midpoint of *Pi Mensae c* is:\n",
    "* period = 6.27\n",
    "* t0 = 1325.504 "
   ]
  },
  {
   "cell_type": "code",
   "execution_count": null,
   "metadata": {},
   "outputs": [],
   "source": [
    "# Another three panel plot\n",
    "fig, axs = plt.subplots(1, 3, figsize=(15, 4))\n",
    "\n",
    "# Loop over each aperture\n",
    "for idx, aper in enumerate(apers):\n",
    "    # Build a folded light curve, and plot it\n",
    "     . . . "
   ]
  },
  {
   "cell_type": "markdown",
   "metadata": {},
   "source": [
    "The folded light curve will have a transit at the center. However, the transit has ashort duration, compared with the period. Use indexing to cut down the folded light curve to contain only points between $-0.1$ and $0.1$ in phase."
   ]
  },
  {
   "cell_type": "markdown",
   "metadata": {},
   "source": [
    "**Hint:** You can index light curves in the same way you index `numpy` arrays. e.g.\n",
    "```Python\n",
    "lc[30:-10].plot()\n",
    "lc[100].flux\n",
    "boolean_mask = [ False, False, True, True ...]\n",
    "lc[boolean_mask].time\n",
    "```"
   ]
  },
  {
   "cell_type": "code",
   "execution_count": null,
   "metadata": {},
   "outputs": [],
   "source": [
    "# Another three panel plot\n",
    "fig, axs = plt.subplots(1, 3, figsize=(15, 4))\n",
    "\n",
    "# Loop over each aperture\n",
    "for idx, aper in enumerate(apers):\n",
    "    # Build a folded light curve\n",
    "     . . . \n",
    "    # Create a mask\n",
    "    mask =  . . . \n",
    "    # Plot the light curve\n",
    "    . . . "
   ]
  },
  {
   "cell_type": "markdown",
   "metadata": {},
   "source": [
    "### Finding the optimum aperture\n",
    "\n",
    "Now we have light curves, we can use the `estimate_cdpp` method to identify which aperture has the best signal to noise. Loop over each of your light curves and identify which mask gives the best CDPP. (Note that lower CDPP values indicate a less noisy light curve.) \n",
    "\n",
    "**Hint:** You can read more about the CDPP metric in the `estimate_cdpp()` method doc string."
   ]
  },
  {
   "cell_type": "code",
   "execution_count": null,
   "metadata": {},
   "outputs": [],
   "source": [
    "cdpps = []\n",
    "\n",
    "# Loop over each aperture\n",
    "for aper in apers:\n",
    "    lc = . . . \n",
    "    cdpp_value =  . . . \n",
    "    cdpps.append(cdpp_value)"
   ]
  },
  {
   "cell_type": "code",
   "execution_count": null,
   "metadata": {},
   "outputs": [],
   "source": [
    "import numpy as np\n",
    "best_aper = np.argmin(cdpps)"
   ]
  },
  {
   "cell_type": "markdown",
   "metadata": {},
   "source": [
    "Use the best aperture you have created to create a light curve, and compare it with the light curve from the TESS pipeline. Plot the two **folded** light curves (your own aperture and the PDCSAP light curve from the pipeline) in the same panel, using light curve.\n",
    "\n",
    "**Hint**: You can access light curve data using the `search_lightcurvefile` function in lightkurve."
   ]
  },
  {
   "cell_type": "code",
   "execution_count": null,
   "metadata": {},
   "outputs": [],
   "source": [
    "lcf =  . . . #Download Pi Mensae Light Curve File using lightkurve"
   ]
  },
  {
   "cell_type": "code",
   "execution_count": null,
   "metadata": {},
   "outputs": [],
   "source": [
    "pipeline_lc = lcf.PDCSAP_FLUX\n",
    "# Plot folded light curve file\n",
    "ax =  . . . \n",
    "\n",
    "# Build and plot your best aperture folded light curve\n",
    "lc = . . . \n",
    "lc.fold( . . . ).scatter(ax=ax, c='r', label='Aperture')"
   ]
  },
  {
   "cell_type": "markdown",
   "metadata": {},
   "source": [
    "Plot the two light curves, using the lightkurve `bin()` method to reduce the time resolution and increase the signal to noise of the transit. If you have carefully selected your aperture, you should be able to achieve a signal to noise in the transit equal to or higher than the pipeline!"
   ]
  },
  {
   "cell_type": "code",
   "execution_count": null,
   "metadata": {},
   "outputs": [],
   "source": [
    "pipeline_lc = lcf.PDCSAP_FLUX\n",
    "# Plot folded AND binned light curve file\n",
    "ax =  . . . \n",
    "\n",
    "# Build and plot your best aperture folded and binned light curve\n",
    "lc = . . . \n",
    "folded_and_binned = . . . \n",
    "folded_and_binned.scatter(ax=ax, c='r', label='Aperture')"
   ]
  }
 ],
 "metadata": {
  "kernelspec": {
   "display_name": "Python 3",
   "language": "python",
   "name": "python3"
  },
  "language_info": {
   "codemirror_mode": {
    "name": "ipython",
    "version": 3
   },
   "file_extension": ".py",
   "mimetype": "text/x-python",
   "name": "python",
   "nbconvert_exporter": "python",
   "pygments_lexer": "ipython3",
   "version": "3.6.5"
  }
 },
 "nbformat": 4,
 "nbformat_minor": 2
}
